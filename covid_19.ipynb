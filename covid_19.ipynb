{
 "cells": [
  {
   "cell_type": "code",
   "execution_count": 1,
   "metadata": {},
   "outputs": [],
   "source": [
    "import pandas as pd"
   ]
  },
  {
   "cell_type": "code",
   "execution_count": 2,
   "metadata": {},
   "outputs": [],
   "source": [
    "covid = pd.read_csv(\"C:\\\\Users\\\\ASUS\\\\Downloads\\\\Project 1 - Covid Vaccination\\\\country_vaccinations.csv\")"
   ]
  },
  {
   "cell_type": "code",
   "execution_count": 3,
   "metadata": {},
   "outputs": [
    {
     "data": {
      "text/html": [
       "<div>\n",
       "<style scoped>\n",
       "    .dataframe tbody tr th:only-of-type {\n",
       "        vertical-align: middle;\n",
       "    }\n",
       "\n",
       "    .dataframe tbody tr th {\n",
       "        vertical-align: top;\n",
       "    }\n",
       "\n",
       "    .dataframe thead th {\n",
       "        text-align: right;\n",
       "    }\n",
       "</style>\n",
       "<table border=\"1\" class=\"dataframe\">\n",
       "  <thead>\n",
       "    <tr style=\"text-align: right;\">\n",
       "      <th></th>\n",
       "      <th>country</th>\n",
       "      <th>iso_code</th>\n",
       "      <th>date</th>\n",
       "      <th>total_vaccinations</th>\n",
       "      <th>people_vaccinated</th>\n",
       "      <th>people_fully_vaccinated</th>\n",
       "      <th>daily_vaccinations_raw</th>\n",
       "      <th>daily_vaccinations</th>\n",
       "      <th>total_vaccinations_per_hundred</th>\n",
       "      <th>people_vaccinated_per_hundred</th>\n",
       "      <th>people_fully_vaccinated_per_hundred</th>\n",
       "      <th>daily_vaccinations_per_million</th>\n",
       "      <th>vaccines</th>\n",
       "      <th>source_name</th>\n",
       "      <th>source_website</th>\n",
       "    </tr>\n",
       "  </thead>\n",
       "  <tbody>\n",
       "    <tr>\n",
       "      <th>0</th>\n",
       "      <td>Afghanistan</td>\n",
       "      <td>AFG</td>\n",
       "      <td>2021-02-22</td>\n",
       "      <td>0.0</td>\n",
       "      <td>0.0</td>\n",
       "      <td>NaN</td>\n",
       "      <td>NaN</td>\n",
       "      <td>NaN</td>\n",
       "      <td>0.0</td>\n",
       "      <td>0.0</td>\n",
       "      <td>NaN</td>\n",
       "      <td>NaN</td>\n",
       "      <td>Johnson&amp;Johnson, Oxford/AstraZeneca, Pfizer/Bi...</td>\n",
       "      <td>World Health Organization</td>\n",
       "      <td>https://covid19.who.int/</td>\n",
       "    </tr>\n",
       "    <tr>\n",
       "      <th>1</th>\n",
       "      <td>Afghanistan</td>\n",
       "      <td>AFG</td>\n",
       "      <td>2021-02-23</td>\n",
       "      <td>NaN</td>\n",
       "      <td>NaN</td>\n",
       "      <td>NaN</td>\n",
       "      <td>NaN</td>\n",
       "      <td>1367.0</td>\n",
       "      <td>NaN</td>\n",
       "      <td>NaN</td>\n",
       "      <td>NaN</td>\n",
       "      <td>35.0</td>\n",
       "      <td>Johnson&amp;Johnson, Oxford/AstraZeneca, Pfizer/Bi...</td>\n",
       "      <td>World Health Organization</td>\n",
       "      <td>https://covid19.who.int/</td>\n",
       "    </tr>\n",
       "    <tr>\n",
       "      <th>2</th>\n",
       "      <td>Afghanistan</td>\n",
       "      <td>AFG</td>\n",
       "      <td>2021-02-24</td>\n",
       "      <td>NaN</td>\n",
       "      <td>NaN</td>\n",
       "      <td>NaN</td>\n",
       "      <td>NaN</td>\n",
       "      <td>1367.0</td>\n",
       "      <td>NaN</td>\n",
       "      <td>NaN</td>\n",
       "      <td>NaN</td>\n",
       "      <td>35.0</td>\n",
       "      <td>Johnson&amp;Johnson, Oxford/AstraZeneca, Pfizer/Bi...</td>\n",
       "      <td>World Health Organization</td>\n",
       "      <td>https://covid19.who.int/</td>\n",
       "    </tr>\n",
       "    <tr>\n",
       "      <th>3</th>\n",
       "      <td>Afghanistan</td>\n",
       "      <td>AFG</td>\n",
       "      <td>2021-02-25</td>\n",
       "      <td>NaN</td>\n",
       "      <td>NaN</td>\n",
       "      <td>NaN</td>\n",
       "      <td>NaN</td>\n",
       "      <td>1367.0</td>\n",
       "      <td>NaN</td>\n",
       "      <td>NaN</td>\n",
       "      <td>NaN</td>\n",
       "      <td>35.0</td>\n",
       "      <td>Johnson&amp;Johnson, Oxford/AstraZeneca, Pfizer/Bi...</td>\n",
       "      <td>World Health Organization</td>\n",
       "      <td>https://covid19.who.int/</td>\n",
       "    </tr>\n",
       "    <tr>\n",
       "      <th>4</th>\n",
       "      <td>Afghanistan</td>\n",
       "      <td>AFG</td>\n",
       "      <td>2021-02-26</td>\n",
       "      <td>NaN</td>\n",
       "      <td>NaN</td>\n",
       "      <td>NaN</td>\n",
       "      <td>NaN</td>\n",
       "      <td>1367.0</td>\n",
       "      <td>NaN</td>\n",
       "      <td>NaN</td>\n",
       "      <td>NaN</td>\n",
       "      <td>35.0</td>\n",
       "      <td>Johnson&amp;Johnson, Oxford/AstraZeneca, Pfizer/Bi...</td>\n",
       "      <td>World Health Organization</td>\n",
       "      <td>https://covid19.who.int/</td>\n",
       "    </tr>\n",
       "  </tbody>\n",
       "</table>\n",
       "</div>"
      ],
      "text/plain": [
       "       country iso_code        date  total_vaccinations  people_vaccinated  \\\n",
       "0  Afghanistan      AFG  2021-02-22                 0.0                0.0   \n",
       "1  Afghanistan      AFG  2021-02-23                 NaN                NaN   \n",
       "2  Afghanistan      AFG  2021-02-24                 NaN                NaN   \n",
       "3  Afghanistan      AFG  2021-02-25                 NaN                NaN   \n",
       "4  Afghanistan      AFG  2021-02-26                 NaN                NaN   \n",
       "\n",
       "   people_fully_vaccinated  daily_vaccinations_raw  daily_vaccinations  \\\n",
       "0                      NaN                     NaN                 NaN   \n",
       "1                      NaN                     NaN              1367.0   \n",
       "2                      NaN                     NaN              1367.0   \n",
       "3                      NaN                     NaN              1367.0   \n",
       "4                      NaN                     NaN              1367.0   \n",
       "\n",
       "   total_vaccinations_per_hundred  people_vaccinated_per_hundred  \\\n",
       "0                             0.0                            0.0   \n",
       "1                             NaN                            NaN   \n",
       "2                             NaN                            NaN   \n",
       "3                             NaN                            NaN   \n",
       "4                             NaN                            NaN   \n",
       "\n",
       "   people_fully_vaccinated_per_hundred  daily_vaccinations_per_million  \\\n",
       "0                                  NaN                             NaN   \n",
       "1                                  NaN                            35.0   \n",
       "2                                  NaN                            35.0   \n",
       "3                                  NaN                            35.0   \n",
       "4                                  NaN                            35.0   \n",
       "\n",
       "                                            vaccines  \\\n",
       "0  Johnson&Johnson, Oxford/AstraZeneca, Pfizer/Bi...   \n",
       "1  Johnson&Johnson, Oxford/AstraZeneca, Pfizer/Bi...   \n",
       "2  Johnson&Johnson, Oxford/AstraZeneca, Pfizer/Bi...   \n",
       "3  Johnson&Johnson, Oxford/AstraZeneca, Pfizer/Bi...   \n",
       "4  Johnson&Johnson, Oxford/AstraZeneca, Pfizer/Bi...   \n",
       "\n",
       "                 source_name            source_website  \n",
       "0  World Health Organization  https://covid19.who.int/  \n",
       "1  World Health Organization  https://covid19.who.int/  \n",
       "2  World Health Organization  https://covid19.who.int/  \n",
       "3  World Health Organization  https://covid19.who.int/  \n",
       "4  World Health Organization  https://covid19.who.int/  "
      ]
     },
     "execution_count": 3,
     "metadata": {},
     "output_type": "execute_result"
    }
   ],
   "source": [
    "covid.head()"
   ]
  },
  {
   "cell_type": "code",
   "execution_count": 4,
   "metadata": {},
   "outputs": [
    {
     "name": "stdout",
     "output_type": "stream",
     "text": [
      "<class 'pandas.core.frame.DataFrame'>\n",
      "RangeIndex: 31240 entries, 0 to 31239\n",
      "Data columns (total 15 columns):\n",
      " #   Column                               Non-Null Count  Dtype  \n",
      "---  ------                               --------------  -----  \n",
      " 0   country                              31240 non-null  object \n",
      " 1   iso_code                             31240 non-null  object \n",
      " 2   date                                 31240 non-null  object \n",
      " 3   total_vaccinations                   17451 non-null  float64\n",
      " 4   people_vaccinated                    16554 non-null  float64\n",
      " 5   people_fully_vaccinated              13795 non-null  float64\n",
      " 6   daily_vaccinations_raw               14421 non-null  float64\n",
      " 7   daily_vaccinations                   30948 non-null  float64\n",
      " 8   total_vaccinations_per_hundred       17451 non-null  float64\n",
      " 9   people_vaccinated_per_hundred        16554 non-null  float64\n",
      " 10  people_fully_vaccinated_per_hundred  13795 non-null  float64\n",
      " 11  daily_vaccinations_per_million       30948 non-null  float64\n",
      " 12  vaccines                             31240 non-null  object \n",
      " 13  source_name                          31240 non-null  object \n",
      " 14  source_website                       31240 non-null  object \n",
      "dtypes: float64(9), object(6)\n",
      "memory usage: 3.6+ MB\n"
     ]
    }
   ],
   "source": [
    "covid.info()"
   ]
  },
  {
   "cell_type": "code",
   "execution_count": 5,
   "metadata": {},
   "outputs": [
    {
     "data": {
      "text/html": [
       "<div>\n",
       "<style scoped>\n",
       "    .dataframe tbody tr th:only-of-type {\n",
       "        vertical-align: middle;\n",
       "    }\n",
       "\n",
       "    .dataframe tbody tr th {\n",
       "        vertical-align: top;\n",
       "    }\n",
       "\n",
       "    .dataframe thead th {\n",
       "        text-align: right;\n",
       "    }\n",
       "</style>\n",
       "<table border=\"1\" class=\"dataframe\">\n",
       "  <thead>\n",
       "    <tr style=\"text-align: right;\">\n",
       "      <th></th>\n",
       "      <th>total_vaccinations</th>\n",
       "      <th>people_vaccinated</th>\n",
       "      <th>people_fully_vaccinated</th>\n",
       "      <th>daily_vaccinations_raw</th>\n",
       "      <th>daily_vaccinations</th>\n",
       "      <th>total_vaccinations_per_hundred</th>\n",
       "      <th>people_vaccinated_per_hundred</th>\n",
       "      <th>people_fully_vaccinated_per_hundred</th>\n",
       "      <th>daily_vaccinations_per_million</th>\n",
       "    </tr>\n",
       "  </thead>\n",
       "  <tbody>\n",
       "    <tr>\n",
       "      <th>count</th>\n",
       "      <td>1.745100e+04</td>\n",
       "      <td>1.655400e+04</td>\n",
       "      <td>1.379500e+04</td>\n",
       "      <td>1.442100e+04</td>\n",
       "      <td>3.094800e+04</td>\n",
       "      <td>17451.000000</td>\n",
       "      <td>16554.000000</td>\n",
       "      <td>13795.000000</td>\n",
       "      <td>30948.000000</td>\n",
       "    </tr>\n",
       "    <tr>\n",
       "      <th>mean</th>\n",
       "      <td>1.200444e+07</td>\n",
       "      <td>5.704551e+06</td>\n",
       "      <td>3.293973e+06</td>\n",
       "      <td>2.273661e+05</td>\n",
       "      <td>1.149718e+05</td>\n",
       "      <td>29.283554</td>\n",
       "      <td>19.181574</td>\n",
       "      <td>12.340698</td>\n",
       "      <td>3426.365969</td>\n",
       "    </tr>\n",
       "    <tr>\n",
       "      <th>std</th>\n",
       "      <td>6.622349e+07</td>\n",
       "      <td>2.101612e+07</td>\n",
       "      <td>1.234425e+07</td>\n",
       "      <td>1.258556e+06</td>\n",
       "      <td>8.460548e+05</td>\n",
       "      <td>35.042304</td>\n",
       "      <td>20.734193</td>\n",
       "      <td>15.857682</td>\n",
       "      <td>4572.377684</td>\n",
       "    </tr>\n",
       "    <tr>\n",
       "      <th>min</th>\n",
       "      <td>0.000000e+00</td>\n",
       "      <td>0.000000e+00</td>\n",
       "      <td>1.000000e+00</td>\n",
       "      <td>0.000000e+00</td>\n",
       "      <td>0.000000e+00</td>\n",
       "      <td>0.000000</td>\n",
       "      <td>0.000000</td>\n",
       "      <td>0.000000</td>\n",
       "      <td>0.000000</td>\n",
       "    </tr>\n",
       "    <tr>\n",
       "      <th>25%</th>\n",
       "      <td>1.262015e+05</td>\n",
       "      <td>9.999100e+04</td>\n",
       "      <td>4.832450e+04</td>\n",
       "      <td>4.324000e+03</td>\n",
       "      <td>8.520000e+02</td>\n",
       "      <td>2.970000</td>\n",
       "      <td>2.580000</td>\n",
       "      <td>1.320000</td>\n",
       "      <td>412.000000</td>\n",
       "    </tr>\n",
       "    <tr>\n",
       "      <th>50%</th>\n",
       "      <td>8.890780e+05</td>\n",
       "      <td>6.450395e+05</td>\n",
       "      <td>3.632100e+05</td>\n",
       "      <td>2.133600e+04</td>\n",
       "      <td>6.471000e+03</td>\n",
       "      <td>14.510000</td>\n",
       "      <td>10.730000</td>\n",
       "      <td>5.560000</td>\n",
       "      <td>1851.000000</td>\n",
       "    </tr>\n",
       "    <tr>\n",
       "      <th>75%</th>\n",
       "      <td>4.213660e+06</td>\n",
       "      <td>2.809300e+06</td>\n",
       "      <td>1.635366e+06</td>\n",
       "      <td>9.441700e+04</td>\n",
       "      <td>3.545425e+04</td>\n",
       "      <td>44.460000</td>\n",
       "      <td>30.890000</td>\n",
       "      <td>17.610000</td>\n",
       "      <td>5123.000000</td>\n",
       "    </tr>\n",
       "    <tr>\n",
       "      <th>max</th>\n",
       "      <td>1.426347e+09</td>\n",
       "      <td>6.220000e+08</td>\n",
       "      <td>2.232990e+08</td>\n",
       "      <td>2.474100e+07</td>\n",
       "      <td>2.242429e+07</td>\n",
       "      <td>232.350000</td>\n",
       "      <td>116.660000</td>\n",
       "      <td>115.690000</td>\n",
       "      <td>118759.000000</td>\n",
       "    </tr>\n",
       "  </tbody>\n",
       "</table>\n",
       "</div>"
      ],
      "text/plain": [
       "       total_vaccinations  people_vaccinated  people_fully_vaccinated  \\\n",
       "count        1.745100e+04       1.655400e+04             1.379500e+04   \n",
       "mean         1.200444e+07       5.704551e+06             3.293973e+06   \n",
       "std          6.622349e+07       2.101612e+07             1.234425e+07   \n",
       "min          0.000000e+00       0.000000e+00             1.000000e+00   \n",
       "25%          1.262015e+05       9.999100e+04             4.832450e+04   \n",
       "50%          8.890780e+05       6.450395e+05             3.632100e+05   \n",
       "75%          4.213660e+06       2.809300e+06             1.635366e+06   \n",
       "max          1.426347e+09       6.220000e+08             2.232990e+08   \n",
       "\n",
       "       daily_vaccinations_raw  daily_vaccinations  \\\n",
       "count            1.442100e+04        3.094800e+04   \n",
       "mean             2.273661e+05        1.149718e+05   \n",
       "std              1.258556e+06        8.460548e+05   \n",
       "min              0.000000e+00        0.000000e+00   \n",
       "25%              4.324000e+03        8.520000e+02   \n",
       "50%              2.133600e+04        6.471000e+03   \n",
       "75%              9.441700e+04        3.545425e+04   \n",
       "max              2.474100e+07        2.242429e+07   \n",
       "\n",
       "       total_vaccinations_per_hundred  people_vaccinated_per_hundred  \\\n",
       "count                    17451.000000                   16554.000000   \n",
       "mean                        29.283554                      19.181574   \n",
       "std                         35.042304                      20.734193   \n",
       "min                          0.000000                       0.000000   \n",
       "25%                          2.970000                       2.580000   \n",
       "50%                         14.510000                      10.730000   \n",
       "75%                         44.460000                      30.890000   \n",
       "max                        232.350000                     116.660000   \n",
       "\n",
       "       people_fully_vaccinated_per_hundred  daily_vaccinations_per_million  \n",
       "count                         13795.000000                    30948.000000  \n",
       "mean                             12.340698                     3426.365969  \n",
       "std                              15.857682                     4572.377684  \n",
       "min                               0.000000                        0.000000  \n",
       "25%                               1.320000                      412.000000  \n",
       "50%                               5.560000                     1851.000000  \n",
       "75%                              17.610000                     5123.000000  \n",
       "max                             115.690000                   118759.000000  "
      ]
     },
     "execution_count": 5,
     "metadata": {},
     "output_type": "execute_result"
    }
   ],
   "source": [
    "covid.describe()"
   ]
  },
  {
   "cell_type": "code",
   "execution_count": 6,
   "metadata": {},
   "outputs": [
    {
     "data": {
      "text/plain": [
       "country                                    0\n",
       "iso_code                                   0\n",
       "date                                       0\n",
       "total_vaccinations                     13789\n",
       "people_vaccinated                      14686\n",
       "people_fully_vaccinated                17445\n",
       "daily_vaccinations_raw                 16819\n",
       "daily_vaccinations                       292\n",
       "total_vaccinations_per_hundred         13789\n",
       "people_vaccinated_per_hundred          14686\n",
       "people_fully_vaccinated_per_hundred    17445\n",
       "daily_vaccinations_per_million           292\n",
       "vaccines                                   0\n",
       "source_name                                0\n",
       "source_website                             0\n",
       "dtype: int64"
      ]
     },
     "execution_count": 6,
     "metadata": {},
     "output_type": "execute_result"
    }
   ],
   "source": [
    "covid.isna().sum()"
   ]
  },
  {
   "cell_type": "code",
   "execution_count": 7,
   "metadata": {},
   "outputs": [
    {
     "data": {
      "text/plain": [
       "country                                    0\n",
       "iso_code                                   0\n",
       "date                                       0\n",
       "total_vaccinations                     13789\n",
       "people_vaccinated                      14686\n",
       "people_fully_vaccinated                17445\n",
       "daily_vaccinations_raw                 16819\n",
       "daily_vaccinations                       292\n",
       "total_vaccinations_per_hundred         13789\n",
       "people_vaccinated_per_hundred          14686\n",
       "people_fully_vaccinated_per_hundred    17445\n",
       "daily_vaccinations_per_million           292\n",
       "vaccines                                   0\n",
       "source_name                                0\n",
       "source_website                             0\n",
       "dtype: int64"
      ]
     },
     "execution_count": 7,
     "metadata": {},
     "output_type": "execute_result"
    }
   ],
   "source": [
    "covid.isnull().sum()"
   ]
  },
  {
   "cell_type": "code",
   "execution_count": 8,
   "metadata": {},
   "outputs": [],
   "source": [
    "covid.dropna(inplace=True)"
   ]
  },
  {
   "cell_type": "code",
   "execution_count": 9,
   "metadata": {},
   "outputs": [
    {
     "data": {
      "text/plain": [
       "country                                0\n",
       "iso_code                               0\n",
       "date                                   0\n",
       "total_vaccinations                     0\n",
       "people_vaccinated                      0\n",
       "people_fully_vaccinated                0\n",
       "daily_vaccinations_raw                 0\n",
       "daily_vaccinations                     0\n",
       "total_vaccinations_per_hundred         0\n",
       "people_vaccinated_per_hundred          0\n",
       "people_fully_vaccinated_per_hundred    0\n",
       "daily_vaccinations_per_million         0\n",
       "vaccines                               0\n",
       "source_name                            0\n",
       "source_website                         0\n",
       "dtype: int64"
      ]
     },
     "execution_count": 9,
     "metadata": {},
     "output_type": "execute_result"
    }
   ],
   "source": [
    "covid.isnull().sum()"
   ]
  },
  {
   "cell_type": "code",
   "execution_count": 15,
   "metadata": {},
   "outputs": [
    {
     "data": {
      "text/plain": [
       "Index(['country', 'iso_code', 'date', 'total_vaccinations',\n",
       "       'people_vaccinated', 'people_fully_vaccinated',\n",
       "       'daily_vaccinations_raw', 'daily_vaccinations',\n",
       "       'total_vaccinations_per_hundred', 'people_vaccinated_per_hundred',\n",
       "       'people_fully_vaccinated_per_hundred', 'daily_vaccinations_per_million',\n",
       "       'vaccines', 'source_name', 'source_website'],\n",
       "      dtype='object')"
      ]
     },
     "execution_count": 15,
     "metadata": {},
     "output_type": "execute_result"
    }
   ],
   "source": [
    "covid.columns"
   ]
  },
  {
   "cell_type": "code",
   "execution_count": 26,
   "metadata": {},
   "outputs": [],
   "source": [
    "united_states = covid.loc[covid['country']=='United States']"
   ]
  },
  {
   "cell_type": "code",
   "execution_count": 27,
   "metadata": {},
   "outputs": [
    {
     "data": {
      "text/html": [
       "<div>\n",
       "<style scoped>\n",
       "    .dataframe tbody tr th:only-of-type {\n",
       "        vertical-align: middle;\n",
       "    }\n",
       "\n",
       "    .dataframe tbody tr th {\n",
       "        vertical-align: top;\n",
       "    }\n",
       "\n",
       "    .dataframe thead th {\n",
       "        text-align: right;\n",
       "    }\n",
       "</style>\n",
       "<table border=\"1\" class=\"dataframe\">\n",
       "  <thead>\n",
       "    <tr style=\"text-align: right;\">\n",
       "      <th></th>\n",
       "      <th>country</th>\n",
       "      <th>iso_code</th>\n",
       "      <th>date</th>\n",
       "      <th>total_vaccinations</th>\n",
       "      <th>people_vaccinated</th>\n",
       "      <th>people_fully_vaccinated</th>\n",
       "      <th>daily_vaccinations_raw</th>\n",
       "      <th>daily_vaccinations</th>\n",
       "      <th>total_vaccinations_per_hundred</th>\n",
       "      <th>people_vaccinated_per_hundred</th>\n",
       "      <th>people_fully_vaccinated_per_hundred</th>\n",
       "      <th>daily_vaccinations_per_million</th>\n",
       "      <th>vaccines</th>\n",
       "      <th>source_name</th>\n",
       "      <th>source_website</th>\n",
       "    </tr>\n",
       "  </thead>\n",
       "  <tbody>\n",
       "    <tr>\n",
       "      <th>29873</th>\n",
       "      <td>United States</td>\n",
       "      <td>USA</td>\n",
       "      <td>2021-01-14</td>\n",
       "      <td>11148991.0</td>\n",
       "      <td>9690757.0</td>\n",
       "      <td>1342086.0</td>\n",
       "      <td>870529.0</td>\n",
       "      <td>747082.0</td>\n",
       "      <td>3.33</td>\n",
       "      <td>2.90</td>\n",
       "      <td>0.40</td>\n",
       "      <td>2234.0</td>\n",
       "      <td>Johnson&amp;Johnson, Moderna, Pfizer/BioNTech</td>\n",
       "      <td>Centers for Disease Control and Prevention</td>\n",
       "      <td>https://covid.cdc.gov/covid-data-tracker/COVID...</td>\n",
       "    </tr>\n",
       "    <tr>\n",
       "      <th>29874</th>\n",
       "      <td>United States</td>\n",
       "      <td>USA</td>\n",
       "      <td>2021-01-15</td>\n",
       "      <td>12279180.0</td>\n",
       "      <td>10595866.0</td>\n",
       "      <td>1610524.0</td>\n",
       "      <td>1130189.0</td>\n",
       "      <td>798707.0</td>\n",
       "      <td>3.67</td>\n",
       "      <td>3.17</td>\n",
       "      <td>0.48</td>\n",
       "      <td>2388.0</td>\n",
       "      <td>Johnson&amp;Johnson, Moderna, Pfizer/BioNTech</td>\n",
       "      <td>Centers for Disease Control and Prevention</td>\n",
       "      <td>https://covid.cdc.gov/covid-data-tracker/COVID...</td>\n",
       "    </tr>\n",
       "    <tr>\n",
       "      <th>29879</th>\n",
       "      <td>United States</td>\n",
       "      <td>USA</td>\n",
       "      <td>2021-01-20</td>\n",
       "      <td>16525281.0</td>\n",
       "      <td>14270441.0</td>\n",
       "      <td>2161419.0</td>\n",
       "      <td>817693.0</td>\n",
       "      <td>892403.0</td>\n",
       "      <td>4.94</td>\n",
       "      <td>4.27</td>\n",
       "      <td>0.65</td>\n",
       "      <td>2668.0</td>\n",
       "      <td>Johnson&amp;Johnson, Moderna, Pfizer/BioNTech</td>\n",
       "      <td>Centers for Disease Control and Prevention</td>\n",
       "      <td>https://covid.cdc.gov/covid-data-tracker/COVID...</td>\n",
       "    </tr>\n",
       "    <tr>\n",
       "      <th>29880</th>\n",
       "      <td>United States</td>\n",
       "      <td>USA</td>\n",
       "      <td>2021-01-21</td>\n",
       "      <td>17546374.0</td>\n",
       "      <td>15053257.0</td>\n",
       "      <td>2394961.0</td>\n",
       "      <td>1021093.0</td>\n",
       "      <td>913912.0</td>\n",
       "      <td>5.25</td>\n",
       "      <td>4.50</td>\n",
       "      <td>0.72</td>\n",
       "      <td>2733.0</td>\n",
       "      <td>Johnson&amp;Johnson, Moderna, Pfizer/BioNTech</td>\n",
       "      <td>Centers for Disease Control and Prevention</td>\n",
       "      <td>https://covid.cdc.gov/covid-data-tracker/COVID...</td>\n",
       "    </tr>\n",
       "    <tr>\n",
       "      <th>29881</th>\n",
       "      <td>United States</td>\n",
       "      <td>USA</td>\n",
       "      <td>2021-01-22</td>\n",
       "      <td>19107959.0</td>\n",
       "      <td>16243093.0</td>\n",
       "      <td>2756953.0</td>\n",
       "      <td>1561585.0</td>\n",
       "      <td>975540.0</td>\n",
       "      <td>5.71</td>\n",
       "      <td>4.86</td>\n",
       "      <td>0.82</td>\n",
       "      <td>2917.0</td>\n",
       "      <td>Johnson&amp;Johnson, Moderna, Pfizer/BioNTech</td>\n",
       "      <td>Centers for Disease Control and Prevention</td>\n",
       "      <td>https://covid.cdc.gov/covid-data-tracker/COVID...</td>\n",
       "    </tr>\n",
       "  </tbody>\n",
       "</table>\n",
       "</div>"
      ],
      "text/plain": [
       "             country iso_code        date  total_vaccinations  \\\n",
       "29873  United States      USA  2021-01-14          11148991.0   \n",
       "29874  United States      USA  2021-01-15          12279180.0   \n",
       "29879  United States      USA  2021-01-20          16525281.0   \n",
       "29880  United States      USA  2021-01-21          17546374.0   \n",
       "29881  United States      USA  2021-01-22          19107959.0   \n",
       "\n",
       "       people_vaccinated  people_fully_vaccinated  daily_vaccinations_raw  \\\n",
       "29873          9690757.0                1342086.0                870529.0   \n",
       "29874         10595866.0                1610524.0               1130189.0   \n",
       "29879         14270441.0                2161419.0                817693.0   \n",
       "29880         15053257.0                2394961.0               1021093.0   \n",
       "29881         16243093.0                2756953.0               1561585.0   \n",
       "\n",
       "       daily_vaccinations  total_vaccinations_per_hundred  \\\n",
       "29873            747082.0                            3.33   \n",
       "29874            798707.0                            3.67   \n",
       "29879            892403.0                            4.94   \n",
       "29880            913912.0                            5.25   \n",
       "29881            975540.0                            5.71   \n",
       "\n",
       "       people_vaccinated_per_hundred  people_fully_vaccinated_per_hundred  \\\n",
       "29873                           2.90                                 0.40   \n",
       "29874                           3.17                                 0.48   \n",
       "29879                           4.27                                 0.65   \n",
       "29880                           4.50                                 0.72   \n",
       "29881                           4.86                                 0.82   \n",
       "\n",
       "       daily_vaccinations_per_million  \\\n",
       "29873                          2234.0   \n",
       "29874                          2388.0   \n",
       "29879                          2668.0   \n",
       "29880                          2733.0   \n",
       "29881                          2917.0   \n",
       "\n",
       "                                        vaccines  \\\n",
       "29873  Johnson&Johnson, Moderna, Pfizer/BioNTech   \n",
       "29874  Johnson&Johnson, Moderna, Pfizer/BioNTech   \n",
       "29879  Johnson&Johnson, Moderna, Pfizer/BioNTech   \n",
       "29880  Johnson&Johnson, Moderna, Pfizer/BioNTech   \n",
       "29881  Johnson&Johnson, Moderna, Pfizer/BioNTech   \n",
       "\n",
       "                                      source_name  \\\n",
       "29873  Centers for Disease Control and Prevention   \n",
       "29874  Centers for Disease Control and Prevention   \n",
       "29879  Centers for Disease Control and Prevention   \n",
       "29880  Centers for Disease Control and Prevention   \n",
       "29881  Centers for Disease Control and Prevention   \n",
       "\n",
       "                                          source_website  \n",
       "29873  https://covid.cdc.gov/covid-data-tracker/COVID...  \n",
       "29874  https://covid.cdc.gov/covid-data-tracker/COVID...  \n",
       "29879  https://covid.cdc.gov/covid-data-tracker/COVID...  \n",
       "29880  https://covid.cdc.gov/covid-data-tracker/COVID...  \n",
       "29881  https://covid.cdc.gov/covid-data-tracker/COVID...  "
      ]
     },
     "execution_count": 27,
     "metadata": {},
     "output_type": "execute_result"
    }
   ],
   "source": [
    "united_states.head()"
   ]
  },
  {
   "cell_type": "code",
   "execution_count": 33,
   "metadata": {},
   "outputs": [],
   "source": [
    "working_data = covid.iloc[:, 3:11]"
   ]
  },
  {
   "cell_type": "code",
   "execution_count": 34,
   "metadata": {},
   "outputs": [
    {
     "data": {
      "text/html": [
       "<div>\n",
       "<style scoped>\n",
       "    .dataframe tbody tr th:only-of-type {\n",
       "        vertical-align: middle;\n",
       "    }\n",
       "\n",
       "    .dataframe tbody tr th {\n",
       "        vertical-align: top;\n",
       "    }\n",
       "\n",
       "    .dataframe thead th {\n",
       "        text-align: right;\n",
       "    }\n",
       "</style>\n",
       "<table border=\"1\" class=\"dataframe\">\n",
       "  <thead>\n",
       "    <tr style=\"text-align: right;\">\n",
       "      <th></th>\n",
       "      <th>total_vaccinations</th>\n",
       "      <th>people_vaccinated</th>\n",
       "      <th>people_fully_vaccinated</th>\n",
       "      <th>daily_vaccinations_raw</th>\n",
       "      <th>daily_vaccinations</th>\n",
       "      <th>total_vaccinations_per_hundred</th>\n",
       "      <th>people_vaccinated_per_hundred</th>\n",
       "      <th>people_fully_vaccinated_per_hundred</th>\n",
       "    </tr>\n",
       "  </thead>\n",
       "  <tbody>\n",
       "    <tr>\n",
       "      <th>94</th>\n",
       "      <td>593313.0</td>\n",
       "      <td>479574.0</td>\n",
       "      <td>113739.0</td>\n",
       "      <td>2859.0</td>\n",
       "      <td>6487.0</td>\n",
       "      <td>1.52</td>\n",
       "      <td>1.23</td>\n",
       "      <td>0.29</td>\n",
       "    </tr>\n",
       "    <tr>\n",
       "      <th>101</th>\n",
       "      <td>630305.0</td>\n",
       "      <td>481800.0</td>\n",
       "      <td>148505.0</td>\n",
       "      <td>4015.0</td>\n",
       "      <td>5285.0</td>\n",
       "      <td>1.62</td>\n",
       "      <td>1.24</td>\n",
       "      <td>0.38</td>\n",
       "    </tr>\n",
       "    <tr>\n",
       "      <th>182</th>\n",
       "      <td>3049.0</td>\n",
       "      <td>2438.0</td>\n",
       "      <td>611.0</td>\n",
       "      <td>1348.0</td>\n",
       "      <td>254.0</td>\n",
       "      <td>0.11</td>\n",
       "      <td>0.08</td>\n",
       "      <td>0.02</td>\n",
       "    </tr>\n",
       "    <tr>\n",
       "      <th>264</th>\n",
       "      <td>622507.0</td>\n",
       "      <td>440921.0</td>\n",
       "      <td>181586.0</td>\n",
       "      <td>9548.0</td>\n",
       "      <td>12160.0</td>\n",
       "      <td>21.63</td>\n",
       "      <td>15.32</td>\n",
       "      <td>6.31</td>\n",
       "    </tr>\n",
       "    <tr>\n",
       "      <th>265</th>\n",
       "      <td>632676.0</td>\n",
       "      <td>444755.0</td>\n",
       "      <td>187921.0</td>\n",
       "      <td>10169.0</td>\n",
       "      <td>10870.0</td>\n",
       "      <td>21.98</td>\n",
       "      <td>15.45</td>\n",
       "      <td>6.53</td>\n",
       "    </tr>\n",
       "  </tbody>\n",
       "</table>\n",
       "</div>"
      ],
      "text/plain": [
       "     total_vaccinations  people_vaccinated  people_fully_vaccinated  \\\n",
       "94             593313.0           479574.0                 113739.0   \n",
       "101            630305.0           481800.0                 148505.0   \n",
       "182              3049.0             2438.0                    611.0   \n",
       "264            622507.0           440921.0                 181586.0   \n",
       "265            632676.0           444755.0                 187921.0   \n",
       "\n",
       "     daily_vaccinations_raw  daily_vaccinations  \\\n",
       "94                   2859.0              6487.0   \n",
       "101                  4015.0              5285.0   \n",
       "182                  1348.0               254.0   \n",
       "264                  9548.0             12160.0   \n",
       "265                 10169.0             10870.0   \n",
       "\n",
       "     total_vaccinations_per_hundred  people_vaccinated_per_hundred  \\\n",
       "94                             1.52                           1.23   \n",
       "101                            1.62                           1.24   \n",
       "182                            0.11                           0.08   \n",
       "264                           21.63                          15.32   \n",
       "265                           21.98                          15.45   \n",
       "\n",
       "     people_fully_vaccinated_per_hundred  \n",
       "94                                  0.29  \n",
       "101                                 0.38  \n",
       "182                                 0.02  \n",
       "264                                 6.31  \n",
       "265                                 6.53  "
      ]
     },
     "execution_count": 34,
     "metadata": {},
     "output_type": "execute_result"
    }
   ],
   "source": [
    "working_data.head()"
   ]
  },
  {
   "cell_type": "code",
   "execution_count": 43,
   "metadata": {},
   "outputs": [],
   "source": [
    "X = working_data.drop(['total_vaccinations'], axis=1)\n",
    "y = working_data['total_vaccinations']"
   ]
  },
  {
   "cell_type": "code",
   "execution_count": 44,
   "metadata": {},
   "outputs": [],
   "source": [
    "from sklearn.model_selection import train_test_split"
   ]
  },
  {
   "cell_type": "code",
   "execution_count": 45,
   "metadata": {},
   "outputs": [],
   "source": [
    "X_train, X_test, y_train, y_test = train_test_split(X, y, test_size=0.2, random_state=42)"
   ]
  },
  {
   "cell_type": "code",
   "execution_count": 46,
   "metadata": {},
   "outputs": [],
   "source": [
    "from sklearn.preprocessing import StandardScaler\n",
    "\n",
    "sc = StandardScaler()\n",
    "X_train = sc.fit_transform(X_train)\n",
    "X_test = sc.fit_transform(X_test)"
   ]
  },
  {
   "cell_type": "code",
   "execution_count": 47,
   "metadata": {},
   "outputs": [
    {
     "data": {
      "text/plain": [
       "array([[-3.14852736e-01, -2.76497871e-01, -3.16145016e-01, ...,\n",
       "         2.06256583e-01,  3.63872841e-01, -2.41323542e-02],\n",
       "       [ 7.16380422e+00,  1.11494608e+01,  9.23219659e-01, ...,\n",
       "         1.84738074e+00,  1.57482616e+00,  2.26979993e+00],\n",
       "       [-3.14475150e-01, -2.76521475e-01, -3.13504594e-01, ...,\n",
       "        -9.65362613e-01, -1.05578185e+00, -7.89645115e-01],\n",
       "       ...,\n",
       "       [-2.68231326e-01, -2.33267574e-01, -2.04005436e-01, ...,\n",
       "        -9.37643817e-01, -1.02811679e+00, -7.63585106e-01],\n",
       "       [-3.15432378e-01, -2.76916944e-01, -3.18023476e-01, ...,\n",
       "        -9.77364566e-01, -1.07228382e+00, -7.94857117e-01],\n",
       "       [-1.37128973e-01,  5.74810802e-03, -1.82472678e-01, ...,\n",
       "        -3.39260745e-01, -5.00539128e-01, -1.08175883e-01]])"
      ]
     },
     "execution_count": 47,
     "metadata": {},
     "output_type": "execute_result"
    }
   ],
   "source": [
    "X_train"
   ]
  },
  {
   "cell_type": "code",
   "execution_count": 48,
   "metadata": {},
   "outputs": [
    {
     "data": {
      "text/plain": [
       "array([[-0.29450155, -0.30297992, -0.35352297, ..., -0.65787725,\n",
       "        -0.68661463, -0.58172623],\n",
       "       [ 0.15034726, -0.04685676,  1.66029103, ..., -0.2593956 ,\n",
       "        -0.07493884, -0.4635706 ],\n",
       "       [ 0.37856153,  0.08312821,  0.14662761, ...,  0.27352044,\n",
       "         0.63195063, -0.22920694],\n",
       "       ...,\n",
       "       [-0.187168  , -0.26509475,  0.20110243, ..., -0.85016946,\n",
       "        -0.88281252, -0.75701207],\n",
       "       [-0.24270412, -0.30398754, -0.27251392, ..., -0.91455048,\n",
       "        -0.96408077, -0.79401686],\n",
       "       [-0.26777863, -0.30712019, -0.19264155, ..., -0.95340599,\n",
       "        -1.02755656, -0.7979121 ]])"
      ]
     },
     "execution_count": 48,
     "metadata": {},
     "output_type": "execute_result"
    }
   ],
   "source": [
    "X_test"
   ]
  },
  {
   "cell_type": "code",
   "execution_count": 49,
   "metadata": {},
   "outputs": [],
   "source": [
    "from sklearn.linear_model import LinearRegression\n",
    "\n",
    "model = LinearRegression()"
   ]
  },
  {
   "cell_type": "code",
   "execution_count": 50,
   "metadata": {},
   "outputs": [
    {
     "data": {
      "text/plain": [
       "LinearRegression()"
      ]
     },
     "execution_count": 50,
     "metadata": {},
     "output_type": "execute_result"
    }
   ],
   "source": [
    "model.fit(X_train, y_train)"
   ]
  },
  {
   "cell_type": "code",
   "execution_count": 51,
   "metadata": {},
   "outputs": [
    {
     "data": {
      "text/plain": [
       "11389481.07540357"
      ]
     },
     "execution_count": 51,
     "metadata": {},
     "output_type": "execute_result"
    }
   ],
   "source": [
    "model.intercept_"
   ]
  },
  {
   "cell_type": "code",
   "execution_count": 52,
   "metadata": {},
   "outputs": [
    {
     "data": {
      "text/plain": [
       "array([24742382.97191015, 12737575.9463724 ,    27902.59011238,\n",
       "          61706.22527532,  5212548.91833232, -3101237.00698524,\n",
       "       -2178995.53240741])"
      ]
     },
     "execution_count": 52,
     "metadata": {},
     "output_type": "execute_result"
    }
   ],
   "source": [
    "model.coef_"
   ]
  },
  {
   "cell_type": "code",
   "execution_count": 53,
   "metadata": {},
   "outputs": [],
   "source": [
    "y_pred = model.predict(X_test)"
   ]
  },
  {
   "cell_type": "code",
   "execution_count": 54,
   "metadata": {},
   "outputs": [],
   "source": [
    "import seaborn as sns"
   ]
  },
  {
   "cell_type": "code",
   "execution_count": 55,
   "metadata": {},
   "outputs": [
    {
     "data": {
      "text/plain": [
       "<AxesSubplot:xlabel='total_vaccinations', ylabel='Count'>"
      ]
     },
     "execution_count": 55,
     "metadata": {},
     "output_type": "execute_result"
    },
    {
     "data": {
      "image/png": "[encoded data removed]",
      "text/plain": [
       "<Figure size 432x288 with 1 Axes>"
      ]
     },
     "metadata": {
      "needs_background": "light"
     },
     "output_type": "display_data"
    }
   ],
   "source": [
    "sns.histplot(y_test-y_pred)"
   ]
  },
  {
   "cell_type": "code",
   "execution_count": 57,
   "metadata": {},
   "outputs": [],
   "source": [
    "from sklearn.ensemble import RandomForestRegressor\n",
    "\n",
    "rf_model = RandomForestRegressor(n_estimators=200)"
   ]
  },
  {
   "cell_type": "code",
   "execution_count": 58,
   "metadata": {},
   "outputs": [
    {
     "data": {
      "text/plain": [
       "RandomForestRegressor(n_estimators=200)"
      ]
     },
     "execution_count": 58,
     "metadata": {},
     "output_type": "execute_result"
    }
   ],
   "source": [
    "rf_model.fit(X_train, y_train)"
   ]
  },
  {
   "cell_type": "code",
   "execution_count": 60,
   "metadata": {},
   "outputs": [],
   "source": [
    "pred = rf_model.predict(X_test)"
   ]
  },
  {
   "cell_type": "code",
   "execution_count": 61,
   "metadata": {},
   "outputs": [
    {
     "data": {
      "text/plain": [
       "<AxesSubplot:ylabel='Count'>"
      ]
     },
     "execution_count": 61,
     "metadata": {},
     "output_type": "execute_result"
    },
    {
     "data": {
      "image/png": "[encoded data removed]",
      "text/plain": [
       "<Figure size 432x288 with 1 Axes>"
      ]
     },
     "metadata": {
      "needs_background": "light"
     },
     "output_type": "display_data"
    }
   ],
   "source": [
    "sns.histplot(y_pred-pred)"
   ]
  },
  {
   "cell_type": "code",
   "execution_count": 62,
   "metadata": {},
   "outputs": [],
   "source": [
    "from xgboost import XGBRFRegressor\n",
    "\n",
    "boost_model = XGBRFRegressor()"
   ]
  },
  {
   "cell_type": "code",
   "execution_count": 63,
   "metadata": {},
   "outputs": [
    {
     "data": {
      "text/plain": [
       "XGBRFRegressor(base_score=0.5, booster='gbtree', colsample_bylevel=1,\n",
       "               colsample_bytree=1, enable_categorical=False, gamma=0, gpu_id=-1,\n",
       "               importance_type=None, interaction_constraints='',\n",
       "               max_delta_step=0, max_depth=6, min_child_weight=1, missing=nan,\n",
       "               monotone_constraints='()', n_estimators=100, n_jobs=12,\n",
       "               num_parallel_tree=100, objective='reg:squarederror',\n",
       "               predictor='auto', random_state=0, reg_alpha=0,\n",
       "               scale_pos_weight=1, tree_method='exact', validate_parameters=1,\n",
       "               verbosity=None)"
      ]
     },
     "execution_count": 63,
     "metadata": {},
     "output_type": "execute_result"
    }
   ],
   "source": [
    "boost_model.fit(X_train, y_train)"
   ]
  },
  {
   "cell_type": "code",
   "execution_count": 64,
   "metadata": {},
   "outputs": [],
   "source": [
    "b_pred = model.predict(X_test)"
   ]
  },
  {
   "cell_type": "code",
   "execution_count": 65,
   "metadata": {},
   "outputs": [
    {
     "data": {
      "text/plain": [
       "<AxesSubplot:xlabel='total_vaccinations', ylabel='Count'>"
      ]
     },
     "execution_count": 65,
     "metadata": {},
     "output_type": "execute_result"
    },
    {
     "data": {
      "image/png": "[encoded data removed]",
      "text/plain": [
       "<Figure size 432x288 with 1 Axes>"
      ]
     },
     "metadata": {
      "needs_background": "light"
     },
     "output_type": "display_data"
    }
   ],
   "source": [
    "sns.histplot(y_test-b_pred)"
   ]
  },
  {
   "cell_type": "markdown",
   "metadata": {},
   "source": [
    "# The best model is Random Forest Regressor"
   ]
  },
  {
   "cell_type": "code",
   "execution_count": 66,
   "metadata": {},
   "outputs": [
    {
     "data": {
      "text/plain": [
       "array([  518956.26 , 14458250.725, 21492073.26 , ...,  3429222.29 ,\n",
       "        1858824.085,  1187000.855])"
      ]
     },
     "execution_count": 66,
     "metadata": {},
     "output_type": "execute_result"
    }
   ],
   "source": [
    "pred"
   ]
  },
  {
   "cell_type": "code",
   "execution_count": 75,
   "metadata": {},
   "outputs": [
    {
     "data": {
      "text/html": [
       "<div>\n",
       "<style scoped>\n",
       "    .dataframe tbody tr th:only-of-type {\n",
       "        vertical-align: middle;\n",
       "    }\n",
       "\n",
       "    .dataframe tbody tr th {\n",
       "        vertical-align: top;\n",
       "    }\n",
       "\n",
       "    .dataframe thead th {\n",
       "        text-align: right;\n",
       "    }\n",
       "</style>\n",
       "<table border=\"1\" class=\"dataframe\">\n",
       "  <thead>\n",
       "    <tr style=\"text-align: right;\">\n",
       "      <th></th>\n",
       "      <th>Actual</th>\n",
       "      <th>Predicted</th>\n",
       "    </tr>\n",
       "  </thead>\n",
       "  <tbody>\n",
       "    <tr>\n",
       "      <th>8788</th>\n",
       "      <td>149873.0</td>\n",
       "      <td>5.189563e+05</td>\n",
       "    </tr>\n",
       "    <tr>\n",
       "      <th>26626</th>\n",
       "      <td>12994176.0</td>\n",
       "      <td>1.445825e+07</td>\n",
       "    </tr>\n",
       "    <tr>\n",
       "      <th>1235</th>\n",
       "      <td>19951580.0</td>\n",
       "      <td>2.149207e+07</td>\n",
       "    </tr>\n",
       "    <tr>\n",
       "      <th>25197</th>\n",
       "      <td>4720552.0</td>\n",
       "      <td>5.695458e+06</td>\n",
       "    </tr>\n",
       "    <tr>\n",
       "      <th>22161</th>\n",
       "      <td>338829.0</td>\n",
       "      <td>7.245074e+05</td>\n",
       "    </tr>\n",
       "  </tbody>\n",
       "</table>\n",
       "</div>"
      ],
      "text/plain": [
       "           Actual     Predicted\n",
       "8788     149873.0  5.189563e+05\n",
       "26626  12994176.0  1.445825e+07\n",
       "1235   19951580.0  2.149207e+07\n",
       "25197   4720552.0  5.695458e+06\n",
       "22161    338829.0  7.245074e+05"
      ]
     },
     "execution_count": 75,
     "metadata": {},
     "output_type": "execute_result"
    }
   ],
   "source": [
    "df = pd.DataFrame({'Actual':y_test, 'Predicted':pred})\n",
    "df.head()"
   ]
  },
  {
   "cell_type": "code",
   "execution_count": 76,
   "metadata": {},
   "outputs": [],
   "source": [
    "df.to_csv('rf_model_predictions.csv')"
   ]
  }
 ],
 "metadata": {
  "kernelspec": {
   "display_name": "Python 3",
   "language": "python",
   "name": "python3"
  },
  "language_info": {
   "codemirror_mode": {
    "name": "ipython",
    "version": 3
   },
   "file_extension": ".py",
   "mimetype": "text/x-python",
   "name": "python",
   "nbconvert_exporter": "python",
   "pygments_lexer": "ipython3",
   "version": "3.8.5"
  }
 },
 "nbformat": 4,
 "nbformat_minor": 4
}
